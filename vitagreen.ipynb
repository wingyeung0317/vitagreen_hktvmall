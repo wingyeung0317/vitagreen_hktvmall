{
 "cells": [
  {
   "cell_type": "markdown",
   "metadata": {},
   "source": [
    "# Extract From HKTV MALL"
   ]
  },
  {
   "cell_type": "markdown",
   "metadata": {},
   "source": [
    "使用selenium從hktvmall取得產品目錄 (Beautifulsoup 無法取得 ajax 架構的資料)"
   ]
  },
  {
   "cell_type": "code",
   "execution_count": 1,
   "metadata": {},
   "outputs": [],
   "source": [
    "import pandas as pd\n",
    "from selenium import webdriver\n",
    "from selenium.webdriver.common.by import By\n",
    "import re\n",
    "import time"
   ]
  },
  {
   "cell_type": "code",
   "execution_count": 2,
   "metadata": {},
   "outputs": [],
   "source": [
    "# selenium init (firefox)\n",
    "indexPage = webdriver.Firefox()\n",
    "url = \"https://www.hktvmall.com/hktv/zh/main/%E7%B6%AD%E7%89%B9%E5%81%A5%E9%9D%88/s/H0303001?q=::storeH0303001:\"\n",
    "indexPage.implicitly_wait(20)\n",
    "indexPage.get(url)\n",
    "time.sleep(2)"
   ]
  },
  {
   "cell_type": "code",
   "execution_count": 3,
   "metadata": {},
   "outputs": [],
   "source": [
    "# RemoveAds\n",
    "try: \n",
    "    indexPage.execute_script('document.getElementsByClassName(\"CrazyAd\")[0].remove();')\n",
    "except:\n",
    "    1\n",
    "\n",
    "# Grab Product\n",
    "productDiv = indexPage.find_elements(By.CLASS_NAME, \"product-brief\")"
   ]
  },
  {
   "cell_type": "code",
   "execution_count": 4,
   "metadata": {},
   "outputs": [],
   "source": [
    "# Grab Product titles, Prices and links\n",
    "titles = []\n",
    "prices = []\n",
    "links = []\n",
    "for product in productDiv:\n",
    "    titles.append(product.find_element(By.CLASS_NAME, \"brand-product-name\").text)\n",
    "    prices.append(product.find_element(By.CLASS_NAME, \"price\").text)\n",
    "    links.append(product.find_element(By.CSS_SELECTOR, '[href^=main]').get_attribute('href'))"
   ]
  },
  {
   "cell_type": "code",
   "execution_count": 5,
   "metadata": {},
   "outputs": [],
   "source": [
    "# Write into productDF\n",
    "productDF = pd.DataFrame({\"ProductName\":titles, \"Price\":prices, \"Link\":links, \"AvgStars\":None, \"Star5\":None, \"Star4\":None, \"Star3\":None, \"Star2\":None, \"Star1\":None})"
   ]
  },
  {
   "cell_type": "code",
   "execution_count": 6,
   "metadata": {},
   "outputs": [],
   "source": [
    "# Remove non product data\n",
    "productDF = productDF.drop(productDF[(productDF['ProductName']=='') & (productDF['Price']=='')].index).reset_index(drop=1)"
   ]
  },
  {
   "cell_type": "markdown",
   "metadata": {},
   "source": [
    "進入產品URL, 取得用戶評價"
   ]
  },
  {
   "cell_type": "code",
   "execution_count": 7,
   "metadata": {},
   "outputs": [
    {
     "name": "stdout",
     "output_type": "stream",
     "text": [
      "https://www.hktvmall.com/hktv/zh/main/%E7%B6%AD%E7%89%B9%E5%81%A5%E9%9D%88/s/main/%E7%B6%AD%E7%89%B9%E5%81%A5%E9%9D%88/s/H0303001/%E8%AD%B7%E7%90%86%E4%BF%9D%E5%81%A5/%E8%AD%B7%E7%90%86%E4%BF%9D%E5%81%A5/%E4%BF%9D%E5%81%A5%E7%94%A2%E5%93%81/%E7%BE%8E%E8%82%8C%E9%A3%9F%E5%93%81/%E6%97%A5%E5%A4%9C%E7%BE%8E%E7%99%BD%E4%B8%B8-30%E7%B2%92-x-2%E7%9B%92%E9%99%A4%E6%96%91%E6%B7%A1%E6%96%91%E7%BE%8E%E7%99%BD%E6%B8%9B%E5%B0%91%E9%BB%91%E8%89%B2%E7%B4%A0%E6%B2%88%E6%BE%B1/p/H0303001_S_VDPWCA030BXHK01_B No Comment or Connection Error\n",
      "https://www.hktvmall.com/hktv/zh/main/%E7%B6%AD%E7%89%B9%E5%81%A5%E9%9D%88/s/main/%E7%B6%AD%E7%89%B9%E5%81%A5%E9%9D%88/s/H0303001/%E8%AD%B7%E7%90%86%E4%BF%9D%E5%81%A5/%E8%AD%B7%E7%90%86%E4%BF%9D%E5%81%A5/%E4%BF%9D%E5%81%A5%E7%94%A2%E5%93%81/%E5%85%8D%E7%96%AB%E7%B3%BB%E7%B5%B1/%E7%9B%88%E6%B4%BB%E9%9B%B2%E8%8A%9D%E7%B3%BB%E5%88%97%E7%99%8C%E7%97%87%E6%B2%BB%E7%99%82%E5%B0%88%E7%94%A8%E7%87%9F%E9%A4%8A%E5%93%81%E6%8A%97%E7%82%8E%E5%A2%9E%E5%BC%B7%E5%85%8D%E7%96%AB%E5%8A%9B%E8%BF%85%E9%80%9F%E5%BE%A9%E5%8E%9F20%E5%8C%85/p/H0303001_S_VYZMPO020BXHK01 No Comment or Connection Error\n",
      "https://www.hktvmall.com/hktv/zh/main/%E7%B6%AD%E7%89%B9%E5%81%A5%E9%9D%88/s/main/%E7%B6%AD%E7%89%B9%E5%81%A5%E9%9D%88/s/H0303001/%E8%AD%B7%E7%90%86%E4%BF%9D%E5%81%A5/%E8%AD%B7%E7%90%86%E4%BF%9D%E5%81%A5/%E4%BF%9D%E5%81%A5%E7%94%A2%E5%93%81/%E5%A5%B3%E5%A3%AB%E9%85%8D%E6%96%B9/%E6%9C%88%E8%88%92%E8%A3%9C%E7%87%A5%E7%86%B1%E9%85%8D%E6%96%B960%E7%B2%92-%E5%91%B5%E8%AD%B7%E6%9C%88%E4%BA%8B%E8%88%92%E7%B7%A9%E6%9C%88%E7%B6%93%E7%97%9B%E5%AE%AE%E7%97%9BM%E7%97%9B%E5%9B%9B%E7%89%A9%E8%86%8F%E9%85%8D%E6%96%B9%E8%A3%9C%E8%A1%80%E8%AA%BF%E7%B6%93-/p/H0303001_S_VJPEHCA060BXHK01 No Comment or Connection Error\n"
     ]
    }
   ],
   "source": [
    "reviews = pd.DataFrame({\"Link\":[], \"Comment\":[], \"Stars\":[]})\n",
    "for i, link in enumerate(productDF['Link']):\n",
    "    try:\n",
    "        # init selenium (firefox)\n",
    "        productPage = webdriver.Firefox()\n",
    "        productPage.implicitly_wait(20)\n",
    "        productPage.get(link+\"?scrollTo=reviewTab\")\n",
    "        time.sleep(2)\n",
    "\n",
    "        # RemoveAds\n",
    "        try: \n",
    "            productPage.execute_script('document.getElementsByClassName(\"CrazyAd\")[0].remove();')\n",
    "        except:\n",
    "            1\n",
    "\n",
    "        # Append ProductDF stars\n",
    "        productDF[\"AvgStars\"].loc[i] = productPage.find_element(By.CSS_SELECTOR, 'label.title-text').text\n",
    "        productDF[\"Star5\"].loc[i] = productPage.find_element(By.CSS_SELECTOR, 'div[data-tabname=\"star5\"]').text\n",
    "        productDF[\"Star4\"].loc[i] = productPage.find_element(By.CSS_SELECTOR, 'div[data-tabname=\"star4\"]').text\n",
    "        productDF[\"Star3\"].loc[i] = productPage.find_element(By.CSS_SELECTOR, 'div[data-tabname=\"star3\"]').text\n",
    "        productDF[\"Star2\"].loc[i] = productPage.find_element(By.CSS_SELECTOR, 'div[data-tabname=\"star2\"]').text\n",
    "        productDF[\"Star1\"].loc[i] = productPage.find_element(By.CSS_SELECTOR, 'div[data-tabname=\"star1\"]').text\n",
    "\n",
    "        for star in range(5,0,-1):\n",
    "            comments = []            \n",
    "            try:\n",
    "                # Simulate User click on the [5~1]stars reviews\n",
    "                productPage.find_element(By.CSS_SELECTOR, f'div[data-tabname=\"star{star}\"]').click()\n",
    "                \n",
    "                # Grab how many comments are there\n",
    "                reviewNo = re.findall(r\"\\(\\d+\\)\", productPage.find_element(By.CSS_SELECTOR, f'div[data-tabname=\"star{star}\"]').text)[0]\n",
    "                reviewNo = re.sub(r'\\(', '', reviewNo)\n",
    "                reviewNo = re.sub(r'\\)', '', reviewNo)\n",
    "                reviewNo = int(reviewNo)\n",
    "\n",
    "                # Grab first page comments\n",
    "                for reviewi in productPage.find_elements(By.CSS_SELECTOR, 'div.review-title'):\n",
    "                    comments.append(reviewi.text)\n",
    "\n",
    "                # Since 1 page show 10 data, if the data%10==0 do 1 less click on \"next page\"\n",
    "                if (reviewNo%10)==0:\n",
    "                    reviewNo -= 1\n",
    "\n",
    "                # Grab next pages comments\n",
    "                for pageNo in range(int(reviewNo/10)):\n",
    "                    productPage.find_element(By.CSS_SELECTOR, 'a.next-btn').click()\n",
    "                    for commenti in productPage.find_elements(By.CSS_SELECTOR, 'div.review-title'):\n",
    "                        comments.append(commenti.text)\n",
    "                reviews = pd.concat([reviews, pd.DataFrame({\"Link\":link, \"Comment\":comments, \"Stars\":star})])\n",
    "            except:\n",
    "                # No comment on this star\n",
    "                1\n",
    "        # close firefox\n",
    "        productPage.close()\n",
    "    except:\n",
    "        print(f'{link} No Comment or Connection Error')\n",
    "        # close firefox\n",
    "        productPage.close()"
   ]
  },
  {
   "cell_type": "code",
   "execution_count": 8,
   "metadata": {},
   "outputs": [],
   "source": [
    "# close firefox\n",
    "indexPage.close()"
   ]
  },
  {
   "cell_type": "markdown",
   "metadata": {},
   "source": [
    "#### Transfer to CSV"
   ]
  },
  {
   "cell_type": "code",
   "execution_count": 9,
   "metadata": {},
   "outputs": [],
   "source": [
    "# productDF.to_csv('products.csv')"
   ]
  },
  {
   "cell_type": "code",
   "execution_count": 10,
   "metadata": {},
   "outputs": [],
   "source": [
    "# reviews.to_csv('comment.csv')"
   ]
  },
  {
   "cell_type": "markdown",
   "metadata": {},
   "source": [
    "# Transform"
   ]
  },
  {
   "cell_type": "markdown",
   "metadata": {},
   "source": [
    "#### Basic data transform of productDF and reviews"
   ]
  },
  {
   "cell_type": "code",
   "execution_count": 11,
   "metadata": {},
   "outputs": [],
   "source": [
    "def stringInBracket(x):\n",
    "    if (pd.isna(x)) | (x=='') :\n",
    "        y = 0\n",
    "    else:\n",
    "        y = re.findall(r'\\(\\d+\\)', x)[0]\n",
    "        y = re.sub(r'\\(', '', y)\n",
    "        y = re.sub(r'\\)', '', y)\n",
    "        y = int(y)\n",
    "    return y\n",
    "for i in range(1,6):\n",
    "    productDF[f'Star{i}'] = productDF[f'Star{i}'].apply(lambda x: stringInBracket(x))"
   ]
  },
  {
   "cell_type": "code",
   "execution_count": 12,
   "metadata": {},
   "outputs": [],
   "source": [
    "productDF[\"AvgStars\"] = productDF[\"AvgStars\"].str.replace('/5', '')"
   ]
  },
  {
   "cell_type": "code",
   "execution_count": 13,
   "metadata": {},
   "outputs": [],
   "source": [
    "productDF[\"AvgStars\"] = productDF[\"AvgStars\"].fillna(0).astype(float)"
   ]
  },
  {
   "cell_type": "code",
   "execution_count": 14,
   "metadata": {},
   "outputs": [],
   "source": [
    "productDF['Price'] = productDF['Price'].str.replace(r'$ ', \"\")\n",
    "productDF['Price'] = productDF['Price'].str.replace(r',', \"\")\n",
    "productDF['Price'] = productDF['Price'].astype(float)"
   ]
  },
  {
   "cell_type": "code",
   "execution_count": 15,
   "metadata": {},
   "outputs": [],
   "source": [
    "reviews['Stars'] = reviews['Stars'].astype(int)\n",
    "reviews = reviews.reset_index(drop=1)"
   ]
  },
  {
   "cell_type": "code",
   "execution_count": 16,
   "metadata": {},
   "outputs": [],
   "source": [
    "reviews['Comment'] = reviews['Comment'].fillna('')"
   ]
  },
  {
   "cell_type": "markdown",
   "metadata": {},
   "source": [
    "#### Add keywordsDF"
   ]
  },
  {
   "cell_type": "code",
   "execution_count": 17,
   "metadata": {},
   "outputs": [],
   "source": [
    "# 中文keywords modules\n",
    "import jieba\n",
    "import jieba.analyse\n",
    "from collections import Counter\n",
    "dictfile = \"./src/dict.txt\"  # 字典檔\n",
    "stopfile = \"./src/stopwords.txt\"  # stopwords\n",
    "jieba.set_dictionary(dictfile)\n",
    "jieba.analyse.set_stop_words(stopfile)"
   ]
  },
  {
   "cell_type": "code",
   "execution_count": 18,
   "metadata": {},
   "outputs": [
    {
     "name": "stderr",
     "output_type": "stream",
     "text": [
      "Building prefix dict from c:\\Users\\user\\Code\\vitagreen\\dict.txt ...\n",
      "Dumping model to file cache C:\\Users\\user\\AppData\\Local\\Temp\\jieba.u4d3b91421de6d129127e9163cdb4a990.cache\n",
      "Loading model cost 0.602 seconds.\n",
      "Prefix dict has been built successfully.\n"
     ]
    }
   ],
   "source": [
    "# 將所有comments混合成單一string\n",
    "allcomments = \"\"\n",
    "for text in reviews['Comment']:\n",
    "     allcomments+=text\n",
    "\n",
    "# 取600個keywords\n",
    "tags = jieba.analyse.extract_tags(allcomments, topK=600) \n",
    "\n",
    "freq = {}\n",
    "# 計算 frequency\n",
    "seg_list = jieba.lcut(allcomments, cut_all=False)\n",
    "dictionary = Counter(seg_list)\n",
    "for ele in dictionary:\n",
    "    if ele in tags:\n",
    "        freq[ele] = dictionary[ele]"
   ]
  },
  {
   "cell_type": "code",
   "execution_count": 19,
   "metadata": {},
   "outputs": [],
   "source": [
    "#寫入 keywordsDF\n",
    "keywordsDF = pd.DataFrame()\n",
    "for kw, ct in freq.items():\n",
    "    keywordsDF = pd.concat([keywordsDF, pd.DataFrame({'keywords':[kw], 'freq':[ct]})])"
   ]
  },
  {
   "cell_type": "code",
   "execution_count": 20,
   "metadata": {},
   "outputs": [],
   "source": [
    "keywordsDF = keywordsDF.set_index('keywords')"
   ]
  },
  {
   "cell_type": "code",
   "execution_count": 21,
   "metadata": {},
   "outputs": [],
   "source": [
    "reviews['keywords'] = ''\n",
    "for keyword in keywordsDF.index:\n",
    "    # print(keyword)\n",
    "    for i in reviews[reviews['Comment'].str.contains(keyword)].index:\n",
    "        reviews.loc[i, 'keywords'] += f\"{keyword}, \"\n",
    "keywordsIncludedDF = pd.DataFrame({'included_keywords':reviews['keywords']})"
   ]
  },
  {
   "cell_type": "markdown",
   "metadata": {},
   "source": [
    "#### Transfer to CSV"
   ]
  },
  {
   "cell_type": "code",
   "execution_count": 22,
   "metadata": {},
   "outputs": [],
   "source": [
    "# keywordsDF.to_csv('keywords.csv')"
   ]
  },
  {
   "cell_type": "code",
   "execution_count": 23,
   "metadata": {},
   "outputs": [],
   "source": [
    "# keywordsIncludedDF.to_csv('commentIncludeKeywords')"
   ]
  },
  {
   "cell_type": "markdown",
   "metadata": {},
   "source": [
    "# Load to SQL"
   ]
  },
  {
   "cell_type": "code",
   "execution_count": 44,
   "metadata": {},
   "outputs": [],
   "source": [
    "from sqlalchemy import create_engine\n",
    "import constraint # Save your sql connection data into constraint.py\n",
    "user = constraint.user\n",
    "password = constraint.password\n",
    "hostname = constraint.hostname\n",
    "database_name = constraint.database_name\n",
    "schema_name = 'vitagreen'\n",
    "engine = create_engine(f\"postgresql+psycopg2://{user}:{password}@{hostname}/{database_name}\")"
   ]
  },
  {
   "cell_type": "markdown",
   "metadata": {},
   "source": [
    "#### productDF to postgreSQL(\"vitagreen\".\"Products\")"
   ]
  },
  {
   "cell_type": "code",
   "execution_count": 45,
   "metadata": {},
   "outputs": [],
   "source": [
    "# productDF.to_csv('productDF_transformed.csv')\n",
    "connection = engine.raw_connection()\n",
    "cursor = connection.cursor()\n",
    "for index, row in productDF.iterrows():\n",
    "     sqlMsg = f'INSERT INTO \"vitagreen\".\"Products\" (index, product_name, price, link, avg_stars, stars5, stars4, stars3, stars2, stars1) \\\n",
    "          VALUES ({index}, \\'{row.ProductName}\\', {row.Price}, \\'{row.Link}\\', {row.AvgStars}, {row.Star5}, {row.Star4}, {row.Star3}, {row.Star2}, {row.Star1})'\n",
    "     cursor.execute(sqlMsg)\n",
    "connection.commit()\n",
    "cursor.close()"
   ]
  },
  {
   "cell_type": "markdown",
   "metadata": {},
   "source": [
    "#### reviews to postgreSQL(\"vitagreen\".\"Comments\")"
   ]
  },
  {
   "cell_type": "code",
   "execution_count": 46,
   "metadata": {},
   "outputs": [],
   "source": [
    "# reviews.to_csv('comment_transformed.csv')\n",
    "connection = engine.raw_connection()\n",
    "cursor = connection.cursor()\n",
    "for index, row in reviews.iterrows():\n",
    "     sqlMsg = 'INSERT INTO \"vitagreen\".\"Comments\" (index, link, comment, stars) \\\n",
    "          VALUES ({0}, \\'{1}\\', \\'{2}\\', {3})'.format(index, row.Link, re.sub(r\"\\'\", \"\\'\\'\", row.Comment), row.Stars)\n",
    "     cursor.execute(sqlMsg)\n",
    "connection.commit()\n",
    "cursor.close()"
   ]
  },
  {
   "cell_type": "markdown",
   "metadata": {},
   "source": [
    "#### keywordsDF to postgreSQL(\"vitagreen\".\"keywords\")"
   ]
  },
  {
   "cell_type": "code",
   "execution_count": 47,
   "metadata": {},
   "outputs": [
    {
     "data": {
      "text/plain": [
       "600"
      ]
     },
     "execution_count": 47,
     "metadata": {},
     "output_type": "execute_result"
    }
   ],
   "source": [
    "keywordsDF.to_sql('keywords', con=engine, schema='vitagreen', if_exists='replace')"
   ]
  },
  {
   "cell_type": "markdown",
   "metadata": {},
   "source": [
    "#### keywordsIncludedDF to postgreSQL(\"vitagreen\".\"included_keywords\")"
   ]
  },
  {
   "cell_type": "code",
   "execution_count": 48,
   "metadata": {},
   "outputs": [
    {
     "data": {
      "text/plain": [
       "924"
      ]
     },
     "execution_count": 48,
     "metadata": {},
     "output_type": "execute_result"
    }
   ],
   "source": [
    "keywordsIncludedDF.to_sql('included_keywords', con=engine, schema='vitagreen', if_exists='replace')"
   ]
  }
 ],
 "metadata": {
  "kernelspec": {
   "display_name": "base",
   "language": "python",
   "name": "python3"
  },
  "language_info": {
   "codemirror_mode": {
    "name": "ipython",
    "version": 3
   },
   "file_extension": ".py",
   "mimetype": "text/x-python",
   "name": "python",
   "nbconvert_exporter": "python",
   "pygments_lexer": "ipython3",
   "version": "3.11.5"
  }
 },
 "nbformat": 4,
 "nbformat_minor": 2
}
